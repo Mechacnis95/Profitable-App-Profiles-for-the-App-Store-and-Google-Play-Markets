{
 "cells": [
  {
   "cell_type": "markdown",
   "metadata": {},
   "source": [
    "# Profitable App Profiles for the App Store and Google Play Markets\n",
    "This project is to find mobile app profiles that are profitable for the App Store and Google Play markets. "
   ]
  },
  {
   "cell_type": "code",
   "execution_count": null,
   "metadata": {
    "collapsed": true
   },
   "outputs": [],
   "source": [
    "import pandas as pd\n",
    "from csv import reader"
   ]
  },
  {
   "cell_type": "markdown",
   "metadata": {},
   "source": [
    "# Slicing and Exploring Data"
   ]
  },
  {
   "cell_type": "code",
   "execution_count": 2,
   "metadata": {
    "collapsed": false
   },
   "outputs": [],
   "source": [
    "##slicing data\n",
    "\n",
    "data1=open(\"AppleStore.csv\")\n",
    "data2=open(\"googleplaystore.csv\")\n",
    "applereader=reader(data1)\n",
    "applelist=list(applereader)\n",
    "\n",
    "googlereader=reader(data2)\n",
    "googlelist=list(googlereader)\n",
    "\n",
    "appleheader=applelist[0]\n",
    "androidheader=googlelist[0]\n",
    "ios=applelist[1:]\n",
    "android=googlelist[1:]"
   ]
  },
  {
   "cell_type": "code",
   "execution_count": 3,
   "metadata": {
    "collapsed": true
   },
   "outputs": [],
   "source": [
    "def explore_data(dataset, start, end, rows_and_columns=False):\n",
    "    dataset_slice = dataset[start:end]    \n",
    "    for row in dataset_slice:\n",
    "        print(row)\n",
    "        print('\\n') # adds a new (empty) line after each row\n",
    "\n",
    "    if rows_and_columns:\n",
    "        print('Number of rows:', len(dataset))\n",
    "        print('Number of columns:', len(dataset[0]))"
   ]
  },
  {
   "cell_type": "code",
   "execution_count": 4,
   "metadata": {
    "collapsed": false
   },
   "outputs": [
    {
     "name": "stdout",
     "output_type": "stream",
     "text": [
      "['id', 'track_name', 'size_bytes', 'currency', 'price', 'rating_count_tot', 'rating_count_ver', 'user_rating', 'user_rating_ver', 'ver', 'cont_rating', 'prime_genre', 'sup_devices.num', 'ipadSc_urls.num', 'lang.num', 'vpp_lic']\n",
      "\n",
      "\n",
      "['284882215', 'Facebook', '389879808', 'USD', '0.0', '2974676', '212', '3.5', '3.5', '95.0', '4+', 'Social Networking', '37', '1', '29', '1']\n",
      "\n",
      "\n",
      "['389801252', 'Instagram', '113954816', 'USD', '0.0', '2161558', '1289', '4.5', '4.0', '10.23', '12+', 'Photo & Video', '37', '0', '29', '1']\n",
      "\n",
      "\n",
      "Number of rows: 7198\n",
      "Number of columns: 16\n"
     ]
    }
   ],
   "source": [
    "explore_data(applelist,0,3,True)"
   ]
  },
  {
   "cell_type": "code",
   "execution_count": 5,
   "metadata": {
    "collapsed": false
   },
   "outputs": [
    {
     "name": "stdout",
     "output_type": "stream",
     "text": [
      "['U Launcher Lite – FREE Live Cool Themes, Hide Apps', 'ART_AND_DESIGN', '4.7', '87510', '8.7M', '5,000,000+', 'Free', '0', 'Everyone', 'Art & Design', 'August 1, 2018', '1.2.4', '4.0.3 and up']\n",
      "\n",
      "\n",
      "['Sketch - Draw & Paint', 'ART_AND_DESIGN', '4.5', '215644', '25M', '50,000,000+', 'Free', '0', 'Teen', 'Art & Design', 'June 8, 2018', 'Varies with device', '4.2 and up']\n",
      "\n",
      "\n",
      "['Pixel Draw - Number Art Coloring Book', 'ART_AND_DESIGN', '4.3', '967', '2.8M', '100,000+', 'Free', '0', 'Everyone', 'Art & Design;Creativity', 'June 20, 2018', '1.1', '4.4 and up']\n",
      "\n",
      "\n",
      "['Paper flowers instructions', 'ART_AND_DESIGN', '4.4', '167', '5.6M', '50,000+', 'Free', '0', 'Everyone', 'Art & Design', 'March 26, 2017', '1.0', '2.3 and up']\n",
      "\n",
      "\n",
      "['Smoke Effect Photo Maker - Smoke Editor', 'ART_AND_DESIGN', '3.8', '178', '19M', '50,000+', 'Free', '0', 'Everyone', 'Art & Design', 'April 26, 2018', '1.1', '4.0.3 and up']\n",
      "\n",
      "\n",
      "['Infinite Painter', 'ART_AND_DESIGN', '4.1', '36815', '29M', '1,000,000+', 'Free', '0', 'Everyone', 'Art & Design', 'June 14, 2018', '6.1.61.1', '4.2 and up']\n",
      "\n",
      "\n",
      "['Garden Coloring Book', 'ART_AND_DESIGN', '4.4', '13791', '33M', '1,000,000+', 'Free', '0', 'Everyone', 'Art & Design', 'September 20, 2017', '2.9.2', '3.0 and up']\n",
      "\n",
      "\n",
      "['Kids Paint Free - Drawing Fun', 'ART_AND_DESIGN', '4.7', '121', '3.1M', '10,000+', 'Free', '0', 'Everyone', 'Art & Design;Creativity', 'July 3, 2018', '2.8', '4.0.3 and up']\n",
      "\n",
      "\n",
      "['Text on Photo - Fonteee', 'ART_AND_DESIGN', '4.4', '13880', '28M', '1,000,000+', 'Free', '0', 'Everyone', 'Art & Design', 'October 27, 2017', '1.0.4', '4.1 and up']\n",
      "\n",
      "\n",
      "['Name Art Photo Editor - Focus n Filters', 'ART_AND_DESIGN', '4.4', '8788', '12M', '1,000,000+', 'Free', '0', 'Everyone', 'Art & Design', 'July 31, 2018', '1.0.15', '4.0 and up']\n",
      "\n",
      "\n",
      "['Tattoo Name On My Photo Editor', 'ART_AND_DESIGN', '4.2', '44829', '20M', '10,000,000+', 'Free', '0', 'Teen', 'Art & Design', 'April 2, 2018', '3.8', '4.1 and up']\n",
      "\n",
      "\n",
      "['Mandala Coloring Book', 'ART_AND_DESIGN', '4.6', '4326', '21M', '100,000+', 'Free', '0', 'Everyone', 'Art & Design', 'June 26, 2018', '1.0.4', '4.4 and up']\n",
      "\n",
      "\n",
      "['3D Color Pixel by Number - Sandbox Art Coloring', 'ART_AND_DESIGN', '4.4', '1518', '37M', '100,000+', 'Free', '0', 'Everyone', 'Art & Design', 'August 3, 2018', '1.2.3', '2.3 and up']\n",
      "\n",
      "\n",
      "['Learn To Draw Kawaii Characters', 'ART_AND_DESIGN', '3.2', '55', '2.7M', '5,000+', 'Free', '0', 'Everyone', 'Art & Design', 'June 6, 2018', 'NaN', '4.2 and up']\n",
      "\n",
      "\n",
      "['Photo Designer - Write your name with shapes', 'ART_AND_DESIGN', '4.7', '3632', '5.5M', '500,000+', 'Free', '0', 'Everyone', 'Art & Design', 'July 31, 2018', '3.1', '4.1 and up']\n",
      "\n",
      "\n",
      "['350 Diy Room Decor Ideas', 'ART_AND_DESIGN', '4.5', '27', '17M', '10,000+', 'Free', '0', 'Everyone', 'Art & Design', 'November 7, 2017', '1.0', '2.3 and up']\n",
      "\n",
      "\n",
      "['FlipaClip - Cartoon animation', 'ART_AND_DESIGN', '4.3', '194216', '39M', '5,000,000+', 'Free', '0', 'Everyone', 'Art & Design', 'August 3, 2018', '2.2.5', '4.0.3 and up']\n",
      "\n",
      "\n",
      "['ibis Paint X', 'ART_AND_DESIGN', '4.6', '224399', '31M', '10,000,000+', 'Free', '0', 'Everyone', 'Art & Design', 'July 30, 2018', '5.5.4', '4.1 and up']\n",
      "\n",
      "\n",
      "['Logo Maker - Small Business', 'ART_AND_DESIGN', '4.0', '450', '14M', '100,000+', 'Free', '0', 'Everyone', 'Art & Design', 'April 20, 2018', '4.0', '4.1 and up']\n",
      "\n",
      "\n",
      "[\"Boys Photo Editor - Six Pack & Men's Suit\", 'ART_AND_DESIGN', '4.1', '654', '12M', '100,000+', 'Free', '0', 'Everyone', 'Art & Design', 'March 20, 2018', '1.1', '4.0.3 and up']\n",
      "\n",
      "\n",
      "['Superheroes Wallpapers | 4K Backgrounds', 'ART_AND_DESIGN', '4.7', '7699', '4.2M', '500,000+', 'Free', '0', 'Everyone 10+', 'Art & Design', 'July 12, 2018', '2.2.6.2', '4.0.3 and up']\n",
      "\n",
      "\n",
      "['Mcqueen Coloring pages', 'ART_AND_DESIGN', 'NaN', '61', '7.0M', '100,000+', 'Free', '0', 'Everyone', 'Art & Design;Action & Adventure', 'March 7, 2018', '1.0.0', '4.1 and up']\n",
      "\n",
      "\n",
      "['HD Mickey Minnie Wallpapers', 'ART_AND_DESIGN', '4.7', '118', '23M', '50,000+', 'Free', '0', 'Everyone', 'Art & Design', 'July 7, 2018', '1.1.3', '4.1 and up']\n",
      "\n",
      "\n",
      "['Harley Quinn wallpapers HD', 'ART_AND_DESIGN', '4.8', '192', '6.0M', '10,000+', 'Free', '0', 'Everyone', 'Art & Design', 'April 25, 2018', '1.5', '3.0 and up']\n",
      "\n",
      "\n",
      "['Colorfit - Drawing & Coloring', 'ART_AND_DESIGN', '4.7', '20260', '25M', '500,000+', 'Free', '0', 'Everyone', 'Art & Design;Creativity', 'October 11, 2017', '1.0.8', '4.0.3 and up']\n",
      "\n",
      "\n",
      "['Animated Photo Editor', 'ART_AND_DESIGN', '4.1', '203', '6.1M', '100,000+', 'Free', '0', 'Everyone', 'Art & Design', 'March 21, 2018', '1.03', '4.0.3 and up']\n",
      "\n",
      "\n",
      "['Pencil Sketch Drawing', 'ART_AND_DESIGN', '3.9', '136', '4.6M', '10,000+', 'Free', '0', 'Everyone', 'Art & Design', 'July 12, 2018', '6.0', '2.3 and up']\n",
      "\n",
      "\n",
      "['Easy Realistic Drawing Tutorial', 'ART_AND_DESIGN', '4.1', '223', '4.2M', '100,000+', 'Free', '0', 'Everyone', 'Art & Design', 'August 22, 2017', '1.0', '2.3 and up']\n",
      "\n",
      "\n",
      "['Pink Silver Bow Keyboard Theme', 'ART_AND_DESIGN', '4.2', '1120', '9.2M', '100,000+', 'Free', '0', 'Everyone', 'Art & Design', 'July 12, 2018', '6.7.12.2018', '4.0.3 and up']\n",
      "\n",
      "\n",
      "['Art Drawing Ideas', 'ART_AND_DESIGN', '4.1', '227', '5.2M', '50,000+', 'Free', '0', 'Everyone', 'Art & Design', 'May 31, 2018', '1.2', '2.3 and up']\n",
      "\n",
      "\n",
      "['Anime Manga Coloring Book', 'ART_AND_DESIGN', '4.5', '5035', '11M', '100,000+', 'Free', '0', 'Everyone', 'Art & Design', 'July 19, 2018', '2.20', '4.0 and up']\n",
      "\n",
      "\n",
      "['Easy Origami Ideas', 'ART_AND_DESIGN', '4.2', '1015', '11M', '100,000+', 'Free', '0', 'Everyone', 'Art & Design', 'January 6, 2018', '1.1.0', '4.1 and up']\n",
      "\n",
      "\n",
      "['I Creative Idea', 'ART_AND_DESIGN', '4.7', '353', '4.2M', '10,000+', 'Free', '0', 'Teen', 'Art & Design', 'April 27, 2018', '1.6', '4.1 and up']\n",
      "\n",
      "\n",
      "['How to draw Ladybug and Cat Noir', 'ART_AND_DESIGN', '3.8', '564', '9.2M', '100,000+', 'Free', '0', 'Everyone', 'Art & Design', 'July 11, 2018', '2.1', '4.1 and up']\n",
      "\n",
      "\n",
      "['UNICORN - Color By Number & Pixel Art Coloring', 'ART_AND_DESIGN', '4.7', '8145', '24M', '500,000+', 'Free', '0', 'Everyone', 'Art & Design;Creativity', 'August 2, 2018', '1.0.9', '4.4 and up']\n",
      "\n",
      "\n",
      "['Floor Plan Creator', 'ART_AND_DESIGN', '4.1', '36639', 'Varies with device', '5,000,000+', 'Free', '0', 'Everyone', 'Art & Design', 'July 14, 2018', 'Varies with device', '2.3.3 and up']\n",
      "\n",
      "\n",
      "['PIP Camera - PIP Collage Maker', 'ART_AND_DESIGN', '4.7', '158', '11M', '10,000+', 'Free', '0', 'Everyone', 'Art & Design', 'November 29, 2017', '1.3', '4.0.3 and up']\n",
      "\n",
      "\n",
      "['How To Color Disney Princess - Coloring Pages', 'ART_AND_DESIGN', '4.0', '591', '9.4M', '500,000+', 'Free', '0', 'Everyone', 'Art & Design', 'March 31, 2018', '1', '4.0 and up']\n",
      "\n",
      "\n",
      "['Drawing Clothes Fashion Ideas', 'ART_AND_DESIGN', '4.2', '117', '15M', '10,000+', 'Free', '0', 'Everyone', 'Art & Design', 'July 20, 2018', '2.0.1', '4.0.3 and up']\n",
      "\n",
      "\n",
      "['Sad Poetry Photo Frames 2018', 'ART_AND_DESIGN', '4.5', '176', '10M', '100,000+', 'Free', '0', 'Everyone', 'Art & Design', 'April 2, 2018', '1.0', '4.0.3 and up']\n",
      "\n",
      "\n",
      "['Textgram - write on photos', 'ART_AND_DESIGN', '4.4', '295221', 'Varies with device', '10,000,000+', 'Free', '0', 'Everyone', 'Art & Design', 'July 30, 2018', 'Varies with device', 'Varies with device']\n",
      "\n",
      "\n",
      "['Paint Splash!', 'ART_AND_DESIGN', '3.8', '2206', '1.2M', '100,000+', 'Free', '0', 'Everyone', 'Art & Design;Creativity', 'April 15, 2018', '1.46', '4.1 and up']\n",
      "\n",
      "\n",
      "['Popsicle Sticks and Similar DIY Craft Ideas', 'ART_AND_DESIGN', '4.2', '26', '12M', '10,000+', 'Free', '0', 'Everyone', 'Art & Design', 'January 3, 2018', '1.0.0', '4.1 and up']\n",
      "\n",
      "\n",
      "['Canva: Poster, banner, card maker & graphic design', 'ART_AND_DESIGN', '4.7', '174531', '24M', '10,000,000+', 'Free', '0', 'Everyone', 'Art & Design', 'July 31, 2018', '1.6.1', '4.1 and up']\n",
      "\n",
      "\n",
      "['Install images with music to make video without Net - 2018', 'ART_AND_DESIGN', '4.6', '1070', '26M', '100,000+', 'Free', '0', 'Everyone', 'Art & Design', 'November 14, 2017', '1.6', '4.1 and up']\n",
      "\n",
      "\n",
      "['Little Teddy Bear Colouring Book Game', 'ART_AND_DESIGN', '4.2', '85', '8.0M', '100,000+', 'Free', '0', 'Everyone', 'Art & Design', 'December 17, 2017', '2.0.0', '4.1 and up']\n",
      "\n",
      "\n",
      "['How To Draw Food', 'ART_AND_DESIGN', '4.3', '845', '7.9M', '100,000+', 'Free', '0', 'Everyone', 'Art & Design', 'May 28, 2018', '1.0', '2.3 and up']\n",
      "\n",
      "\n",
      "['Monster Truck Stunt 3D 2019', 'AUTO_AND_VEHICLES', '4.2', '367', '25M', '100,000+', 'Free', '0', 'Everyone', 'Auto & Vehicles', 'May 10, 2018', '1.0', '4.0.3 and up']\n",
      "\n",
      "\n",
      "['Real Tractor Farming', 'AUTO_AND_VEHICLES', '4.0', '1598', '56M', '1,000,000+', 'Free', '0', 'Everyone', 'Auto & Vehicles', 'July 26, 2018', '11.0', '4.1 and up']\n",
      "\n",
      "\n",
      "['Ultimate F1 Racing Championship', 'AUTO_AND_VEHICLES', '3.8', '284', '57M', '100,000+', 'Free', '0', 'Everyone', 'Auto & Vehicles', 'July 26, 2018', '3.0', '4.1 and up']\n",
      "\n",
      "\n",
      "['Used Cars and Trucks for Sale', 'AUTO_AND_VEHICLES', '4.6', '17057', 'Varies with device', '1,000,000+', 'Free', '0', 'Everyone', 'Auto & Vehicles', 'July 30, 2018', 'Varies with device', 'Varies with device']\n",
      "\n",
      "\n",
      "['American Muscle Car Race', 'AUTO_AND_VEHICLES', '3.9', '129', '35M', '100,000+', 'Free', '0', 'Everyone', 'Auto & Vehicles', 'July 26, 2018', '3.0', '4.1 and up']\n",
      "\n",
      "\n",
      "['Offroad Oil Tanker Driver Transport Truck 2019', 'AUTO_AND_VEHICLES', '4.3', '542', '33M', '100,000+', 'Free', '0', 'Everyone', 'Auto & Vehicles', 'July 31, 2018', '4.0', '4.1 and up']\n",
      "\n",
      "\n",
      "['Tickets SDA 2018 and Exam from the State Traffic Safety Inspectorate with Drom.ru', 'AUTO_AND_VEHICLES', '4.9', '10479', '33M', '100,000+', 'Free', '0', 'Everyone', 'Auto & Vehicles', 'July 18, 2018', '1.7.1', '4.0 and up']\n",
      "\n",
      "\n",
      "['Gas Prices (Germany only)', 'AUTO_AND_VEHICLES', '4.4', '805', '5.6M', '50,000+', 'Free', '0', 'Everyone', 'Auto & Vehicles', 'July 29, 2018', '2.5.1', '4.4 and up']\n",
      "\n",
      "\n",
      "['Extreme Rally Championship', 'AUTO_AND_VEHICLES', '4.2', '129', '54M', '100,000+', 'Free', '0', 'Everyone', 'Auto & Vehicles', 'July 26, 2018', '3.0', '4.1 and up']\n",
      "\n",
      "\n",
      "['Restart Navigator', 'AUTO_AND_VEHICLES', '4.0', '1403', '201k', '100,000+', 'Free', '0', 'Everyone', 'Auto & Vehicles', 'August 26, 2014', '1.0.1', '2.2 and up']\n",
      "\n",
      "\n",
      "['REG - Check the regnumber, find information about Swedish vehicles', 'AUTO_AND_VEHICLES', '3.9', '3971', '3.6M', '100,000+', 'Free', '0', 'Everyone', 'Auto & Vehicles', 'July 30, 2018', '2.493', '4.4 and up']\n",
      "\n",
      "\n",
      "['CityBus Lviv', 'AUTO_AND_VEHICLES', '4.6', '534', '5.7M', '10,000+', 'Free', '0', 'Everyone', 'Auto & Vehicles', 'July 8, 2018', '1.9.1', '4.0.3 and up']\n",
      "\n",
      "\n",
      "['CDL Practice Test 2018 Edition', 'AUTO_AND_VEHICLES', '4.9', '7774', '17M', '100,000+', 'Free', '0', 'Everyone', 'Auto & Vehicles', 'July 3, 2018', '1.7', '4.2 and up']\n",
      "\n",
      "\n",
      "['ezETC (ETC balance inquiry, meter trial, real-time traffic)', 'AUTO_AND_VEHICLES', '4.3', '38846', '8.6M', '1,000,000+', 'Free', '0', 'Everyone', 'Auto & Vehicles', 'July 28, 2018', '2.20 Build 02', '4.1 and up']\n",
      "\n",
      "\n",
      "['Free VIN Report for Used Cars', 'AUTO_AND_VEHICLES', '4.6', '2431', '2.4M', '100,000+', 'Free', '0', 'Everyone', 'Auto & Vehicles', 'June 12, 2018', '1.37', '4.0 and up']\n",
      "\n",
      "\n",
      "['DMV Permit Practice Test 2018 Edition', 'AUTO_AND_VEHICLES', '4.9', '6090', '27M', '100,000+', 'Free', '0', 'Everyone', 'Auto & Vehicles', 'July 3, 2018', '1.7', '4.2 and up']\n",
      "\n",
      "\n",
      "['Check Vehicle Tax', 'AUTO_AND_VEHICLES', '3.9', '295', '2.7M', '10,000+', 'Free', '0', 'Everyone', 'Auto & Vehicles', 'July 30, 2018', '0.2.1', '4.4 and up']\n",
      "\n",
      "\n",
      "['Used Cars Mexico', 'AUTO_AND_VEHICLES', '4.0', '190', '2.5M', '50,000+', 'Free', '0', 'Everyone', 'Auto & Vehicles', 'October 14, 2016', '1.0', '2.3 and up']\n",
      "\n",
      "\n",
      "['Ulysse Speedometer', 'AUTO_AND_VEHICLES', '4.3', '40211', 'Varies with device', '5,000,000+', 'Free', '0', 'Everyone', 'Auto & Vehicles', 'July 30, 2018', 'Varies with device', 'Varies with device']\n",
      "\n",
      "\n",
      "['REPUVE', 'AUTO_AND_VEHICLES', '3.9', '356', 'Varies with device', '100,000+', 'Free', '0', 'Everyone', 'Auto & Vehicles', 'May 25, 2018', 'Varies with device', 'Varies with device']\n",
      "\n",
      "\n",
      "['Used cars for sale - Trovit', 'AUTO_AND_VEHICLES', '4.2', '52530', '7.0M', '5,000,000+', 'Free', '0', 'Everyone', 'Auto & Vehicles', 'July 16, 2018', '4.47.3', '4.0.3 and up']\n",
      "\n",
      "\n",
      "['Fines of the State Traffic Safety Inspectorate are official: inspection, payment of fines', 'AUTO_AND_VEHICLES', '4.8', '116986', '35M', '5,000,000+', 'Free', '0', 'Everyone', 'Auto & Vehicles', 'August 2, 2018', '1.9.7', '4.0.3 and up']\n",
      "\n",
      "\n",
      "['SK Enca Direct Malls - Used Cars Search', 'AUTO_AND_VEHICLES', '3.6', '1379', '16M', '500,000+', 'Free', '0', 'Everyone', 'Auto & Vehicles', 'August 2, 2018', '2.2.21', '4.2 and up']\n",
      "\n",
      "\n",
      "['Android Auto - Maps, Media, Messaging & Voice', 'AUTO_AND_VEHICLES', '4.2', '271920', '16M', '10,000,000+', 'Free', '0', 'Teen', 'Auto & Vehicles', 'July 11, 2018', 'Varies with device', '5.0 and up']\n",
      "\n",
      "\n",
      "['PDD-UA', 'AUTO_AND_VEHICLES', '4.8', '736', 'Varies with device', '100,000+', 'Free', '0', 'Everyone', 'Auto & Vehicles', 'July 29, 2018', '2.9', '2.3.3 and up']\n",
      "\n",
      "\n",
      "['Tickets SDA 2019 + Exam RF', 'AUTO_AND_VEHICLES', '4.8', '7021', '17M', '500,000+', 'Free', '0', 'Everyone', 'Auto & Vehicles', 'July 27, 2018', '1.79', '4.0 and up']\n",
      "\n",
      "\n",
      "['Super Cars Wallpapers And Backgrounds', 'AUTO_AND_VEHICLES', '4.6', '197', '3.4M', '50,000+', 'Free', '0', 'Everyone', 'Auto & Vehicles', 'June 14, 2018', '1.3', '4.0 and up']\n",
      "\n",
      "\n",
      "['Police Lights, Sirens & Follow Me', 'AUTO_AND_VEHICLES', '4.5', '737', '8.9M', '100,000+', 'Free', '0', 'Everyone', 'Auto & Vehicles', 'June 8, 2018', '2.3.5.1', '4.1 and up']\n",
      "\n",
      "\n",
      "['Police Detector (Speed Camera Radar)', 'AUTO_AND_VEHICLES', '4.3', '3574', '3.9M', '1,000,000+', 'Free', '0', 'Everyone 10+', 'Auto & Vehicles', 'July 4, 2018', '1.6', '4.0 and up']\n",
      "\n",
      "\n",
      "['Best Car Wallpapers', 'AUTO_AND_VEHICLES', '4.5', '994', '2.9M', '100,000+', 'Free', '0', 'Everyone', 'Auto & Vehicles', 'March 27, 2018', '1.6', '4.1 and up']\n",
      "\n",
      "\n",
      "['Tickets + PDA 2018 Exam', 'AUTO_AND_VEHICLES', '4.9', '197136', '38M', '1,000,000+', 'Free', '0', 'Everyone', 'Auto & Vehicles', 'July 15, 2018', '8.31', '4.1 and up']\n",
      "\n",
      "\n",
      "['Pick Your Part Garage', 'AUTO_AND_VEHICLES', '3.9', '142', '32M', '50,000+', 'Free', '0', 'Everyone', 'Auto & Vehicles', 'July 24, 2018', '1.1.5.0', '6.0 and up']\n",
      "\n",
      "\n",
      "['PakWheels: Buy & Sell Cars', 'AUTO_AND_VEHICLES', '4.4', '15168', '37M', '1,000,000+', 'Free', '0', 'Everyone', 'Auto & Vehicles', 'July 27, 2018', '10.0.2', '4.2 and up']\n",
      "\n",
      "\n",
      "['Supervision service', 'AUTO_AND_VEHICLES', '4.0', '2155', '15M', '500,000+', 'Free', '0', 'Everyone', 'Auto & Vehicles', 'July 30, 2018', '1.10.3', '5.0 and up']\n",
      "\n",
      "\n",
      "['Speed Camera Detector - Traffic & Speed Alert', 'AUTO_AND_VEHICLES', '4.3', '138', '5.4M', '100,000+', 'Free', '0', 'Everyone', 'Auto & Vehicles', 'July 23, 2018', '1.0', '4.0.3 and up']\n",
      "\n",
      "\n",
      "['Used car search Goo net whole car Go to net', 'AUTO_AND_VEHICLES', '3.7', '5414', '18M', '1,000,000+', 'Free', '0', 'Everyone', 'Auto & Vehicles', 'July 23, 2018', '3.20.1', '4.4 and up']\n",
      "\n",
      "\n",
      "['CarMax – Cars for Sale: Search Used Car Inventory', 'AUTO_AND_VEHICLES', '4.4', '21777', 'Varies with device', '1,000,000+', 'Free', '0', 'Everyone', 'Auto & Vehicles', 'August 4, 2018', 'Varies with device', 'Varies with device']\n",
      "\n",
      "\n",
      "['BEST CAR SOUNDS', 'AUTO_AND_VEHICLES', '4.3', '348', '38M', '100,000+', 'Free', '0', 'Everyone', 'Auto & Vehicles', 'July 29, 2018', '1.0.3', '2.3 and up']\n",
      "\n",
      "\n",
      "['RST - Sale of cars on the PCT', 'AUTO_AND_VEHICLES', '3.2', '250', '1.1M', '100,000+', 'Free', '0', 'Everyone', 'Auto & Vehicles', 'April 27, 2018', '1.4', '4.0.3 and up']\n",
      "\n",
      "\n",
      "['AutoScout24 Switzerland – Find your new car', 'AUTO_AND_VEHICLES', '4.6', '13372', 'Varies with device', '1,000,000+', 'Free', '0', 'Everyone', 'Auto & Vehicles', 'August 3, 2018', 'Varies with device', 'Varies with device']\n",
      "\n",
      "\n",
      "['Zona Azul Digital Fácil SP CET - OFFICIAL São Paulo', 'AUTO_AND_VEHICLES', '4.6', '7880', 'Varies with device', '100,000+', 'Free', '0', 'Everyone', 'Auto & Vehicles', 'May 10, 2018', '4.6.5', 'Varies with device']\n",
      "\n",
      "\n",
      "['SMS Park', 'AUTO_AND_VEHICLES', '4.5', '3617', '7.9M', '100,000+', 'Free', '0', 'Everyone', 'Auto & Vehicles', 'May 16, 2018', '2.8.2', '4.1 and up']\n",
      "\n",
      "\n",
      "['SKencar', 'AUTO_AND_VEHICLES', '3.7', '4806', '35M', '1,000,000+', 'Free', '0', 'Everyone', 'Auto & Vehicles', 'July 31, 2018', '4.0.3', '4.0.3 and up']\n",
      "\n",
      "\n",
      "['Fuelio: Gas log & costs', 'AUTO_AND_VEHICLES', '4.6', '65786', 'Varies with device', '1,000,000+', 'Free', '0', 'Everyone', 'Auto & Vehicles', 'August 2, 2018', 'Varies with device', '4.0.3 and up']\n",
      "\n",
      "\n",
      "['auto fines', 'AUTO_AND_VEHICLES', '4.6', '31433', '17M', '1,000,000+', 'Free', '0', 'Everyone', 'Auto & Vehicles', 'August 2, 2018', '1.40', '4.0.3 and up']\n",
      "\n",
      "\n",
      "['Used car is the first car - used car purchase, used car quotation, dealer information to', 'AUTO_AND_VEHICLES', '4.6', '5097', '19M', '1,000,000+', 'Free', '0', 'Everyone', 'Auto & Vehicles', 'July 23, 2018', '1.5.18', '4.0.3 and up']\n",
      "\n",
      "\n",
      "['All of the parking lot - National Park application (parking lot search / parking sharing / discount payment)', 'AUTO_AND_VEHICLES', '4.0', '1754', '14M', '500,000+', 'Free', '0', 'Everyone', 'Auto & Vehicles', 'June 2, 2018', '2.3.4', '4.0 and up']\n",
      "\n",
      "\n",
      "['Inquiry Fines and Debits of Vehicles', 'AUTO_AND_VEHICLES', '4.4', '2680', '2.2M', '500,000+', 'Free', '0', 'Everyone', 'Auto & Vehicles', 'March 20, 2018', '1.03', '4.0.3 and up']\n",
      "\n",
      "\n",
      "['Gas Station', 'AUTO_AND_VEHICLES', '4.0', '1288', '4.5M', '100,000+', 'Free', '0', 'Everyone', 'Auto & Vehicles', 'April 21, 2018', '2.17', '4.0 and up']\n",
      "\n",
      "\n",
      "['Hush - Beauty for Everyone', 'BEAUTY', '4.7', '18900', '17M', '500,000+', 'Free', '0', 'Everyone', 'Beauty', 'August 2, 2018', '6.10.1', '5.0 and up']\n",
      "\n",
      "\n",
      "['ipsy: Makeup, Beauty, and Tips', 'BEAUTY', '4.9', '49790', '14M', '1,000,000+', 'Free', '0', 'Everyone', 'Beauty', 'November 9, 2017', '2.3.0', '4.1 and up']\n",
      "\n",
      "\n",
      "Number of rows: 10841\n",
      "Number of columns: 13\n"
     ]
    }
   ],
   "source": [
    "explore_data(android,2,100,True)"
   ]
  },
  {
   "cell_type": "markdown",
   "metadata": {},
   "source": [
    "# DATA CLEANING STEP 1: get rid of errors and duplicate values"
   ]
  },
  {
   "cell_type": "code",
   "execution_count": 9,
   "metadata": {
    "collapsed": false
   },
   "outputs": [],
   "source": [
    "###as this has error in its number of reviews: gives error after running through the loop while converting string to float \n",
    "del android[10472]"
   ]
  },
  {
   "cell_type": "code",
   "execution_count": 12,
   "metadata": {
    "collapsed": false
   },
   "outputs": [
    {
     "data": {
      "text/plain": [
       "['App',\n",
       " 'Category',\n",
       " 'Rating',\n",
       " 'Reviews',\n",
       " 'Size',\n",
       " 'Installs',\n",
       " 'Type',\n",
       " 'Price',\n",
       " 'Content Rating',\n",
       " 'Genres',\n",
       " 'Last Updated',\n",
       " 'Current Ver',\n",
       " 'Android Ver']"
      ]
     },
     "execution_count": 12,
     "metadata": {},
     "output_type": "execute_result"
    }
   ],
   "source": [
    "androidheader"
   ]
  },
  {
   "cell_type": "code",
   "execution_count": 13,
   "metadata": {
    "collapsed": false
   },
   "outputs": [
    {
     "name": "stdout",
     "output_type": "stream",
     "text": [
      "Number of duplicate android apps: 1181\n",
      "\n",
      "\n",
      "Examples of duplicate apps: ['Quick PDF Scanner + OCR FREE', 'Box', 'Google My Business', 'ZOOM Cloud Meetings', 'join.me - Simple Meetings', 'Box', 'Zenefits', 'Google Ads', 'Google My Business', 'Slack', 'FreshBooks Classic', 'Insightly CRM', 'QuickBooks Accounting: Invoicing & Expenses', 'HipChat - Chat Built for Teams', 'Xero Accounting Software']\n",
      "\n",
      "\n",
      "Number of duplicate ios apps: 2\n",
      "\n",
      "\n",
      "Examples of duplicate apps: ['Mannequin Challenge', 'VR Roller Coaster']\n"
     ]
    }
   ],
   "source": [
    "####Finding Duplicate Value\n",
    "##FOR ANDROID APPS:\n",
    "duplicate_apps = []\n",
    "unique_apps = []\n",
    "\n",
    "for app in android:\n",
    "    name = app[0]\n",
    "    if name in unique_apps:\n",
    "        duplicate_apps.append(name)\n",
    "    else:\n",
    "        unique_apps.append(name)\n",
    "    \n",
    "print('Number of duplicate android apps:', len(duplicate_apps))\n",
    "print('\\n')\n",
    "print('Examples of duplicate apps:', duplicate_apps[:15])\n",
    "\n",
    "\n",
    "print(\"\\n\")\n",
    "\n",
    "##FOR IOS Apps\n",
    "\n",
    "ios_duplicate_apps = []\n",
    "ios_unique_apps = []\n",
    "\n",
    "for app in ios:\n",
    "    name = app[1]\n",
    "    if name in ios_unique_apps:\n",
    "        ios_duplicate_apps.append(name)\n",
    "    else:\n",
    "        ios_unique_apps.append(name)\n",
    "    \n",
    "print('Number of duplicate ios apps:', len(ios_duplicate_apps))\n",
    "print('\\n')\n",
    "print('Examples of duplicate apps:', ios_duplicate_apps[:15])\n"
   ]
  },
  {
   "cell_type": "code",
   "execution_count": 14,
   "metadata": {
    "collapsed": false
   },
   "outputs": [
    {
     "name": "stdout",
     "output_type": "stream",
     "text": [
      "Total number of android apps 10840\n",
      "Number of duplicate android apps: 1181\n",
      "Expected number of android apps after removing duplicated 9659\n",
      "\n",
      "\n",
      "Total number of ios apps 7197\n",
      "Number of duplicate ios apps: 2\n",
      "Expected number of ios apps after removing duplicated 7195\n"
     ]
    }
   ],
   "source": [
    "##Validating data cleaning\n",
    "print(\"Total number of android apps\",len(android))\n",
    "print(\"Number of duplicate android apps:\",len(duplicate_apps))\n",
    "print(\"Expected number of android apps after removing duplicated\",len(android)-1181)\n",
    "\n",
    "print(\"\\n\")\n",
    "\n",
    "\n",
    "print(\"Total number of ios apps\",len(ios))\n",
    "print(\"Number of duplicate ios apps:\",len(ios_duplicate_apps))\n",
    "print(\"Expected number of ios apps after removing duplicated\",len(ios)-2)\n",
    "\n",
    "\n",
    "\n"
   ]
  },
  {
   "cell_type": "markdown",
   "metadata": {},
   "source": [
    "There might be duplicate data values with same or less number of reviews,we need data with highest number of reviews and eliminate the duplicate values with less reviews:"
   ]
  },
  {
   "cell_type": "code",
   "execution_count": 15,
   "metadata": {
    "collapsed": false
   },
   "outputs": [],
   "source": [
    "##android\n",
    "reviews_max = {}\n",
    "\n",
    "for app in android:\n",
    "    name = app[0]\n",
    "    n_reviews = float(app[3])\n",
    "    \n",
    "    if name in reviews_max and reviews_max[name] < n_reviews:\n",
    "        reviews_max[name] = n_reviews\n",
    "        \n",
    "    elif name not in reviews_max:\n",
    "        reviews_max[name] = n_reviews"
   ]
  },
  {
   "cell_type": "code",
   "execution_count": 16,
   "metadata": {
    "collapsed": false
   },
   "outputs": [],
   "source": [
    "###ios\n",
    "reviews_ios_max = {}\n",
    "\n",
    "for app in ios:\n",
    "    name = app[1]\n",
    "    n_reviews = float(app[5])\n",
    "    \n",
    "    if name in reviews_ios_max and reviews_ios_max[name] < n_reviews:\n",
    "        reviews_ios_max[name] = n_reviews\n",
    "        \n",
    "    elif name not in reviews_ios_max:\n",
    "        reviews_ios_max[name] = n_reviews\n"
   ]
  },
  {
   "cell_type": "code",
   "execution_count": 17,
   "metadata": {
    "collapsed": false
   },
   "outputs": [
    {
     "data": {
      "text/plain": [
       "7195"
      ]
     },
     "execution_count": 17,
     "metadata": {},
     "output_type": "execute_result"
    }
   ],
   "source": [
    "len(reviews_ios_max)"
   ]
  },
  {
   "cell_type": "code",
   "execution_count": 18,
   "metadata": {
    "collapsed": true
   },
   "outputs": [],
   "source": [
    "android_clean_data=[]\n",
    "already_added=[]\n",
    "\n",
    "for app in android:\n",
    "    name = app[0]\n",
    "    n_reviews = float(app[3])\n",
    "    \n",
    "    if (reviews_max[name] == n_reviews) and (name not in already_added):\n",
    "        android_clean_data.append(app)\n",
    "        already_added.append(name)"
   ]
  },
  {
   "cell_type": "code",
   "execution_count": 19,
   "metadata": {
    "collapsed": false
   },
   "outputs": [
    {
     "data": {
      "text/plain": [
       "9659"
      ]
     },
     "execution_count": 19,
     "metadata": {},
     "output_type": "execute_result"
    }
   ],
   "source": [
    "len(android_clean_data)"
   ]
  },
  {
   "cell_type": "code",
   "execution_count": 20,
   "metadata": {
    "collapsed": true
   },
   "outputs": [],
   "source": [
    "ios_clean_data=[]\n",
    "ios_already_added=[]\n",
    "\n",
    "for app in ios:\n",
    "    name = app[1]\n",
    "    n_reviews = float(app[5])\n",
    "    \n",
    "    if (reviews_ios_max[name] == n_reviews) and (name not in ios_already_added):\n",
    "        ios_clean_data.append(app)\n",
    "        ios_already_added.append(name)"
   ]
  },
  {
   "cell_type": "code",
   "execution_count": 21,
   "metadata": {
    "collapsed": false
   },
   "outputs": [
    {
     "data": {
      "text/plain": [
       "7195"
      ]
     },
     "execution_count": 21,
     "metadata": {},
     "output_type": "execute_result"
    }
   ],
   "source": [
    "len(ios_clean_data)\n",
    "###now this seems a satisfactory data cleansing \n"
   ]
  },
  {
   "cell_type": "markdown",
   "metadata": {},
   "source": [
    "# DATA CLEANING SETP 2: Filtering out english only apps\n"
   ]
  },
  {
   "cell_type": "markdown",
   "metadata": {},
   "source": [
    "\n",
    "This can be done using the ord build in function where the fuction will output the value of the ASCII number corresponding to the name.\n",
    "We can eliminate non-english names by using ASCII number\n",
    "i.e if the name contains other characters than that in english library it will give a value higher than 127 whic indicates its a non english word.\n",
    "\n",
    "Also I have given the names list the liberty to have 3 Ascci characters.If the number has more than 3 of the ASCII characters then those names will be classified as non-english words\n"
   ]
  },
  {
   "cell_type": "code",
   "execution_count": 22,
   "metadata": {
    "collapsed": false
   },
   "outputs": [
    {
     "name": "stdout",
     "output_type": "stream",
     "text": [
      "9614\n"
     ]
    }
   ],
   "source": [
    "def is_english(string):\n",
    "    non_ascii = 0\n",
    "    \n",
    "    for character in string:\n",
    "        if ord(character) > 127:\n",
    "            non_ascii += 1\n",
    "    \n",
    "    if non_ascii > 3:\n",
    "        return False\n",
    "    else:\n",
    "        return True\n",
    "################################################\n",
    "english_clean_android_data=[]\n",
    "deldata=[]\n",
    "\n",
    "for app in android_clean_data:\n",
    "    name=app[0]\n",
    "    if is_english(name)==True:\n",
    "        english_clean_android_data.append(app)\n",
    "    else:\n",
    "        deldata.append(app)\n",
    "        \n",
    "print(len(english_clean_android_data))"
   ]
  },
  {
   "cell_type": "code",
   "execution_count": 23,
   "metadata": {
    "collapsed": false
   },
   "outputs": [
    {
     "name": "stdout",
     "output_type": "stream",
     "text": [
      "6181\n"
     ]
    }
   ],
   "source": [
    "def is_english(string):\n",
    "    non_ascii = 0\n",
    "    \n",
    "    for character in string:\n",
    "        if ord(character) > 127:\n",
    "            non_ascii += 1\n",
    "    \n",
    "    if non_ascii > 3:\n",
    "        return False\n",
    "    else:\n",
    "        return True\n",
    "################################################\n",
    "english_clean_ios_data=[]\n",
    "deliosdata=[]\n",
    "\n",
    "for app in ios_clean_data:\n",
    "    name=app[1]\n",
    "    if is_english(name)==True:\n",
    "        english_clean_ios_data.append(app)\n",
    "    else:\n",
    "        deliosdata.append(app)\n",
    "        \n",
    "print(len(english_clean_ios_data))"
   ]
  },
  {
   "cell_type": "markdown",
   "metadata": {},
   "source": [
    "DATA CLEANING STEP 3: Lets filter the free apps for data analysis"
   ]
  },
  {
   "cell_type": "code",
   "execution_count": 24,
   "metadata": {
    "collapsed": false
   },
   "outputs": [],
   "source": [
    "#lets check the number of free apps\n",
    "final_android_free=[]\n",
    "final_android_paid=[]\n",
    "for app in english_clean_android_data:\n",
    "    typ=app[6]\n",
    "    \n",
    "    if typ ==\"Free\":\n",
    "        final_android_free.append(app)\n",
    "    else:\n",
    "        final_android_paid.append(app)"
   ]
  },
  {
   "cell_type": "code",
   "execution_count": 25,
   "metadata": {
    "collapsed": true
   },
   "outputs": [],
   "source": [
    "#lets check the number of free apps\n",
    "final_ios_free=[]\n",
    "final_ios_paid=[]\n",
    "for app in english_clean_ios_data:\n",
    "    typ=app[4]\n",
    "    \n",
    "    if typ ==\"0.0\":\n",
    "        final_ios_free.append(app)\n",
    "    else:\n",
    "        final_ios_paid.append(app)"
   ]
  },
  {
   "cell_type": "code",
   "execution_count": 26,
   "metadata": {
    "collapsed": false
   },
   "outputs": [
    {
     "name": "stdout",
     "output_type": "stream",
     "text": [
      "Total number of clean android apps: 8863\n",
      "Total number of clean ios apps:     3220\n"
     ]
    }
   ],
   "source": [
    "print(\"Total number of clean android apps:\",len(final_android_free))\n",
    "\n",
    "print(\"Total number of clean ios apps:    \",len(final_ios_free))"
   ]
  },
  {
   "cell_type": "markdown",
   "metadata": {
    "collapsed": false
   },
   "source": [
    "# DATA ANALYSIS"
   ]
  },
  {
   "cell_type": "markdown",
   "metadata": {
    "collapsed": false
   },
   "source": [
    "# Most Common Apps by Genre\n"
   ]
  },
  {
   "cell_type": "code",
   "execution_count": 31,
   "metadata": {
    "collapsed": false
   },
   "outputs": [],
   "source": [
    "def freqtable(dataset,index):\n",
    "    table={}\n",
    "    total=0\n",
    "    \n",
    "    for app in dataset:\n",
    "        total +=1\n",
    "        name=app[index]\n",
    "    \n",
    "        if name in table:\n",
    "            table[name] += 1\n",
    "        else:\n",
    "            table[name]=1\n",
    "    \n",
    "    percentages_table={}\n",
    "    ###finding percentages\n",
    "    for app in table:\n",
    "        percentages_table[app]=((table[app]/total)*100)\n",
    "        #percentages_table.append(print(app,\" :\",(table[app]/total)*100))\n",
    "    return percentages_table\n",
    "        \n",
    "        \n",
    "        \n",
    "def display_table(dataset,index):\n",
    "    d_table=freqtable(dataset,index)\n",
    "    table_display=[]\n",
    "    \n",
    "    for app in d_table:\n",
    "        tt=(d_table[app],app)\n",
    "        table_display.append(tt)\n",
    "    \n",
    "    sorted_Table=sorted(table_display,reverse=True)\n",
    "    \n",
    "    for i in sorted_Table:\n",
    "        print(i[1],\": \",i[0])\n",
    "    \n",
    "            \n",
    "        \n",
    "    \n",
    "    \n",
    "    "
   ]
  },
  {
   "cell_type": "code",
   "execution_count": 34,
   "metadata": {
    "collapsed": false
   },
   "outputs": [
    {
     "name": "stdout",
     "output_type": "stream",
     "text": [
      "Tools :  8.450863138892023\n",
      "Entertainment :  6.070179397495204\n",
      "Education :  5.348076272142616\n",
      "Business :  4.592124562789123\n",
      "Productivity :  3.8925871601038025\n",
      "Lifestyle :  3.8925871601038025\n",
      "Finance :  3.7007785174320205\n",
      "Medical :  3.5315355974275078\n",
      "Sports :  3.463838429425702\n",
      "Personalization :  3.317161232088458\n",
      "Communication :  3.2381812027530184\n",
      "Action :  3.102786866749408\n",
      "Health & Fitness :  3.0802211440821394\n",
      "Photography :  2.944826808078529\n",
      "News & Magazines :  2.798149610741284\n",
      "Social :  2.6627552747376737\n",
      "Travel & Local :  2.324269434728647\n",
      "Shopping :  2.245289405393208\n",
      "Books & Reference :  2.1437436533904997\n",
      "Simulation :  2.042197901387792\n",
      "Dating :  1.8616721200496444\n",
      "Arcade :  1.8503892587160102\n",
      "Video Players & Editors :  1.771409229380571\n",
      "Casual :  1.7601263680469368\n",
      "Maps & Navigation :  1.399074805370642\n",
      "Food & Drink :  1.241114746699763\n",
      "Puzzle :  1.128286133363421\n",
      "Racing :  0.9928917973598104\n",
      "Role Playing :  0.9364774906916393\n",
      "Libraries & Demo :  0.9364774906916393\n",
      "Auto & Vehicles :  0.9251946293580051\n",
      "Strategy :  0.9026289066907368\n",
      "House & Home :  0.8236488773552973\n",
      "Weather :  0.8010831546880289\n",
      "Events :  0.7108202640189552\n",
      "Adventure :  0.6769716800180525\n",
      "Comics :  0.6092745120162473\n",
      "Beauty :  0.5979916506826132\n",
      "Art & Design :  0.5979916506826132\n",
      "Parenting :  0.4964458986799052\n",
      "Card :  0.4513144533453684\n",
      "Casino :  0.42874873067809993\n",
      "Trivia :  0.4174658693444658\n",
      "Educational;Education :  0.3949001466771973\n",
      "Board :  0.38361728534356315\n",
      "Educational :  0.37233442400992894\n",
      "Education;Education :  0.33848584000902626\n",
      "Word :  0.25950581067358686\n",
      "Casual;Pretend Play :  0.2369400880063184\n",
      "Music :  0.20309150400541578\n",
      "Racing;Action & Adventure :  0.16924292000451313\n",
      "Puzzle;Brain Games :  0.16924292000451313\n",
      "Entertainment;Music & Video :  0.16924292000451313\n",
      "Casual;Brain Games :  0.1353943360036105\n",
      "Casual;Action & Adventure :  0.1353943360036105\n",
      "Arcade;Action & Adventure :  0.1241114746699763\n",
      "Action;Action & Adventure :  0.10154575200270789\n",
      "Educational;Pretend Play :  0.09026289066907367\n",
      "Simulation;Action & Adventure :  0.07898002933543948\n",
      "Parenting;Education :  0.07898002933543948\n",
      "Entertainment;Brain Games :  0.07898002933543948\n",
      "Board;Brain Games :  0.07898002933543948\n",
      "Parenting;Music & Video :  0.06769716800180525\n",
      "Educational;Brain Games :  0.06769716800180525\n",
      "Casual;Creativity :  0.06769716800180525\n",
      "Art & Design;Creativity :  0.06769716800180525\n",
      "Education;Pretend Play :  0.05641430666817105\n",
      "Role Playing;Pretend Play :  0.045131445334536835\n",
      "Education;Creativity :  0.045131445334536835\n",
      "Role Playing;Action & Adventure :  0.033848584000902626\n",
      "Puzzle;Action & Adventure :  0.033848584000902626\n",
      "Entertainment;Creativity :  0.033848584000902626\n",
      "Entertainment;Action & Adventure :  0.033848584000902626\n",
      "Educational;Creativity :  0.033848584000902626\n",
      "Educational;Action & Adventure :  0.033848584000902626\n",
      "Education;Music & Video :  0.033848584000902626\n",
      "Education;Brain Games :  0.033848584000902626\n",
      "Education;Action & Adventure :  0.033848584000902626\n",
      "Adventure;Action & Adventure :  0.033848584000902626\n",
      "Video Players & Editors;Music & Video :  0.022565722667268417\n",
      "Sports;Action & Adventure :  0.022565722667268417\n",
      "Simulation;Pretend Play :  0.022565722667268417\n",
      "Puzzle;Creativity :  0.022565722667268417\n",
      "Music;Music & Video :  0.022565722667268417\n",
      "Entertainment;Pretend Play :  0.022565722667268417\n",
      "Casual;Education :  0.022565722667268417\n",
      "Board;Action & Adventure :  0.022565722667268417\n",
      "Video Players & Editors;Creativity :  0.011282861333634209\n",
      "Trivia;Education :  0.011282861333634209\n",
      "Travel & Local;Action & Adventure :  0.011282861333634209\n",
      "Tools;Education :  0.011282861333634209\n",
      "Strategy;Education :  0.011282861333634209\n",
      "Strategy;Creativity :  0.011282861333634209\n",
      "Strategy;Action & Adventure :  0.011282861333634209\n",
      "Simulation;Education :  0.011282861333634209\n",
      "Role Playing;Brain Games :  0.011282861333634209\n",
      "Racing;Pretend Play :  0.011282861333634209\n",
      "Puzzle;Education :  0.011282861333634209\n",
      "Parenting;Brain Games :  0.011282861333634209\n",
      "Music & Audio;Music & Video :  0.011282861333634209\n",
      "Lifestyle;Pretend Play :  0.011282861333634209\n",
      "Lifestyle;Education :  0.011282861333634209\n",
      "Health & Fitness;Education :  0.011282861333634209\n",
      "Health & Fitness;Action & Adventure :  0.011282861333634209\n",
      "Entertainment;Education :  0.011282861333634209\n",
      "Communication;Creativity :  0.011282861333634209\n",
      "Comics;Creativity :  0.011282861333634209\n",
      "Casual;Music & Video :  0.011282861333634209\n",
      "Card;Action & Adventure :  0.011282861333634209\n",
      "Books & Reference;Education :  0.011282861333634209\n",
      "Art & Design;Pretend Play :  0.011282861333634209\n",
      "Art & Design;Action & Adventure :  0.011282861333634209\n",
      "Arcade;Pretend Play :  0.011282861333634209\n",
      "Adventure;Education :  0.011282861333634209\n"
     ]
    }
   ],
   "source": [
    "##frequency table for android apps based on genre\n",
    "display_table(final_android_free,9)"
   ]
  },
  {
   "cell_type": "code",
   "execution_count": 35,
   "metadata": {
    "collapsed": false
   },
   "outputs": [
    {
     "name": "stdout",
     "output_type": "stream",
     "text": [
      "FAMILY :  18.898792733837304\n",
      "GAME :  9.725826469592688\n",
      "TOOLS :  8.462146000225657\n",
      "BUSINESS :  4.592124562789123\n",
      "LIFESTYLE :  3.9038700214374367\n",
      "PRODUCTIVITY :  3.8925871601038025\n",
      "FINANCE :  3.7007785174320205\n",
      "MEDICAL :  3.5315355974275078\n",
      "SPORTS :  3.396141261423897\n",
      "PERSONALIZATION :  3.317161232088458\n",
      "COMMUNICATION :  3.2381812027530184\n",
      "HEALTH_AND_FITNESS :  3.0802211440821394\n",
      "PHOTOGRAPHY :  2.944826808078529\n",
      "NEWS_AND_MAGAZINES :  2.798149610741284\n",
      "SOCIAL :  2.6627552747376737\n",
      "TRAVEL_AND_LOCAL :  2.335552296062281\n",
      "SHOPPING :  2.245289405393208\n",
      "BOOKS_AND_REFERENCE :  2.1437436533904997\n",
      "DATING :  1.8616721200496444\n",
      "VIDEO_PLAYERS :  1.7939749520478394\n",
      "MAPS_AND_NAVIGATION :  1.399074805370642\n",
      "FOOD_AND_DRINK :  1.241114746699763\n",
      "EDUCATION :  1.1621347173643235\n",
      "ENTERTAINMENT :  0.9590432133589079\n",
      "LIBRARIES_AND_DEMO :  0.9364774906916393\n",
      "AUTO_AND_VEHICLES :  0.9251946293580051\n",
      "HOUSE_AND_HOME :  0.8236488773552973\n",
      "WEATHER :  0.8010831546880289\n",
      "EVENTS :  0.7108202640189552\n",
      "PARENTING :  0.6544059573507841\n",
      "ART_AND_DESIGN :  0.6431230960171499\n",
      "COMICS :  0.6205573733498815\n",
      "BEAUTY :  0.5979916506826132\n"
     ]
    }
   ],
   "source": [
    "##frequency table for android apps based on type\n",
    "\n",
    "display_table(final_android_free,1)"
   ]
  },
  {
   "cell_type": "markdown",
   "metadata": {
    "collapsed": false
   },
   "source": [
    "# iOS DATA"
   ]
  },
  {
   "cell_type": "code",
   "execution_count": 37,
   "metadata": {
    "collapsed": false,
    "scrolled": true
   },
   "outputs": [
    {
     "name": "stdout",
     "output_type": "stream",
     "text": [
      "Games :  58.13664596273293\n",
      "Entertainment :  7.888198757763975\n",
      "Photo & Video :  4.968944099378882\n",
      "Education :  3.6645962732919255\n",
      "Social Networking :  3.291925465838509\n",
      "Shopping :  2.608695652173913\n",
      "Utilities :  2.515527950310559\n",
      "Sports :  2.142857142857143\n",
      "Music :  2.049689440993789\n",
      "Health & Fitness :  2.018633540372671\n",
      "Productivity :  1.7391304347826086\n",
      "Lifestyle :  1.5838509316770186\n",
      "News :  1.3354037267080745\n",
      "Travel :  1.2422360248447204\n",
      "Finance :  1.1180124223602486\n",
      "Weather :  0.8695652173913043\n",
      "Food & Drink :  0.8074534161490683\n",
      "Reference :  0.5590062111801243\n",
      "Business :  0.5279503105590062\n",
      "Book :  0.43478260869565216\n",
      "Navigation :  0.18633540372670807\n",
      "Medical :  0.18633540372670807\n",
      "Catalogs :  0.12422360248447205\n"
     ]
    }
   ],
   "source": [
    "##frequency table for ios apps\n",
    "\n",
    "display_table(final_ios_free,11)"
   ]
  },
  {
   "cell_type": "markdown",
   "metadata": {
    "collapsed": false
   },
   "source": [
    "Calculating average number of installs for each genre of App Store apps depending upon the toatal number of user ratings"
   ]
  },
  {
   "cell_type": "code",
   "execution_count": 48,
   "metadata": {
    "collapsed": false
   },
   "outputs": [
    {
     "name": "stdout",
     "output_type": "stream",
     "text": [
      "Utilities : 18684.456790123455\n",
      "News : 21248.023255813954\n",
      "Medical : 612.0\n",
      "Shopping : 26919.690476190477\n",
      "Photo & Video : 28441.54375\n",
      "Travel : 28243.8\n",
      "Productivity : 21028.410714285714\n",
      "Finance : 31467.944444444445\n",
      "Food & Drink : 33333.92307692308\n",
      "Navigation : 86090.33333333333\n",
      "Education : 7003.983050847458\n",
      "Business : 7491.117647058823\n",
      "Sports : 23008.898550724636\n",
      "Book : 39758.5\n",
      "Entertainment : 14029.830708661417\n",
      "Health & Fitness : 23298.015384615384\n",
      "Catalogs : 4004.0\n",
      "Reference : 74942.11111111111\n",
      "Lifestyle : 16485.764705882353\n",
      "Social Networking : 71548.34905660378\n",
      "Weather : 52279.892857142855\n",
      "Games : 22812.92467948718\n",
      "Music : 57326.530303030304\n"
     ]
    }
   ],
   "source": [
    "\n",
    "average_ios={}\n",
    "for app in final_ios_free:\n",
    "    genre=app[-5]\n",
    "    ratings=app[5]\n",
    "    if genre in average_ios:\n",
    "        average_ios[genre] += float(ratings)\n",
    "    else:\n",
    "        average_ios[genre]=float(ratings)\n",
    "\n",
    "freq_ios=freqtabletemp(final_ios_free,11)\n",
    "\n",
    "for app in average_ios:\n",
    "    print(app,\":\",average_ios[app]/freq_ios[app])"
   ]
  },
  {
   "cell_type": "markdown",
   "metadata": {},
   "source": [
    "On average, navigation apps have the highest number of user reviews, but this figure is heavily influenced by Waze and Google Maps, which have close to half a million user reviews together:\n",
    "\n"
   ]
  },
  {
   "cell_type": "code",
   "execution_count": 61,
   "metadata": {
    "collapsed": false
   },
   "outputs": [
    {
     "name": "stdout",
     "output_type": "stream",
     "text": [
      "Waze - GPS Navigation, Maps & Real-time Traffic : 345046\n",
      "Google Maps - Navigation & Transit : 154911\n",
      "Geocaching® : 12811\n",
      "CoPilot GPS – Car Navigation & Offline Maps : 3582\n",
      "ImmobilienScout24: Real Estate Search in Germany : 187\n",
      "Railway Route Search : 5\n"
     ]
    }
   ],
   "source": [
    "for app in final_ios_free:\n",
    "    if app[-5] == 'Navigation':\n",
    "        print(app[1], ':', app[5])"
   ]
  },
  {
   "cell_type": "markdown",
   "metadata": {},
   "source": [
    "Calculating average number of installs for each genre of Google Play Store apps depending upon the toatal number of Installs"
   ]
  },
  {
   "cell_type": "markdown",
   "metadata": {},
   "source": [
    "# ANDROID DATA"
   ]
  },
  {
   "cell_type": "code",
   "execution_count": 46,
   "metadata": {
    "collapsed": false
   },
   "outputs": [
    {
     "name": "stdout",
     "output_type": "stream",
     "text": [
      "EDUCATION : 1833495.145631068\n",
      "BOOKS_AND_REFERENCE : 8767811.894736841\n",
      "COMICS : 817657.2727272727\n",
      "MAPS_AND_NAVIGATION : 4056941.7741935486\n",
      "NEWS_AND_MAGAZINES : 9549178.467741935\n",
      "LIBRARIES_AND_DEMO : 638503.734939759\n",
      "TOOLS : 10801391.298666667\n",
      "VIDEO_PLAYERS : 24727872.452830188\n",
      "ART_AND_DESIGN : 1986335.0877192982\n",
      "PRODUCTIVITY : 16787331.344927534\n",
      "TRAVEL_AND_LOCAL : 13984077.710144928\n",
      "BUSINESS : 1712290.1474201474\n",
      "ENTERTAINMENT : 11640705.88235294\n",
      "GAME : 15588015.603248259\n",
      "LIFESTYLE : 1437816.2687861272\n",
      "PARENTING : 542603.6206896552\n",
      "PERSONALIZATION : 5201482.6122448975\n",
      "MEDICAL : 120550.61980830671\n",
      "EVENTS : 253542.22222222222\n",
      "PHOTOGRAPHY : 17840110.40229885\n",
      "SPORTS : 3638640.1428571427\n",
      "HEALTH_AND_FITNESS : 4188821.9853479853\n",
      "SHOPPING : 7036877.311557789\n",
      "DATING : 854028.8303030303\n",
      "HOUSE_AND_HOME : 1331540.5616438356\n",
      "WEATHER : 5074486.197183099\n",
      "FAMILY : 3697848.1731343283\n",
      "COMMUNICATION : 38456119.167247385\n",
      "SOCIAL : 23253652.127118643\n",
      "FINANCE : 1387692.475609756\n",
      "FOOD_AND_DRINK : 1924897.7363636363\n",
      "BEAUTY : 513151.88679245283\n",
      "AUTO_AND_VEHICLES : 647317.8170731707\n"
     ]
    }
   ],
   "source": [
    "average_android={}\n",
    "import re\n",
    "for app in final_android_free:\n",
    "    genre=app[1]\n",
    "    \n",
    "    installs=app[5].replace(',','')\n",
    "    installs=installs.replace('+','')\n",
    "    installs=float(installs)\n",
    "    \n",
    "    if genre in average_android:\n",
    "        average_android[genre] += float(installs)\n",
    "    else:\n",
    "        average_android[genre]= float(installs)\n",
    "\n",
    "freq_android=freqtabletemp(final_android_free,1)\n",
    "\n",
    "for app in average_android:\n",
    "    print(app,\":\",average_android[app]/freq_android[app])"
   ]
  },
  {
   "cell_type": "markdown",
   "metadata": {
    "collapsed": false
   },
   "source": [
    "On average, communication apps have the most installs: 38,456,119. This number is heavily skewed up by a few apps that have over one billion installs (WhatsApp, Facebook Messenger, Skype, Google Chrome, Gmail, and Hangouts), and a few others with over 100 and 500 million installs:\n",
    "\n"
   ]
  },
  {
   "cell_type": "code",
   "execution_count": 57,
   "metadata": {
    "collapsed": false
   },
   "outputs": [
    {
     "name": "stdout",
     "output_type": "stream",
     "text": [
      "WhatsApp Messenger : 1,000,000,000+\n",
      "imo beta free calls and text : 100,000,000+\n",
      "Android Messages : 100,000,000+\n",
      "Google Duo - High Quality Video Calls : 500,000,000+\n",
      "Messenger – Text and Video Chat for Free : 1,000,000,000+\n",
      "imo free video calls and chat : 500,000,000+\n",
      "Skype - free IM & video calls : 1,000,000,000+\n",
      "Who : 100,000,000+\n",
      "GO SMS Pro - Messenger, Free Themes, Emoji : 100,000,000+\n",
      "LINE: Free Calls & Messages : 500,000,000+\n",
      "Google Chrome: Fast & Secure : 1,000,000,000+\n",
      "Firefox Browser fast & private : 100,000,000+\n",
      "UC Browser - Fast Download Private & Secure : 500,000,000+\n",
      "Gmail : 1,000,000,000+\n",
      "Hangouts : 1,000,000,000+\n",
      "Messenger Lite: Free Calls & Messages : 100,000,000+\n",
      "Kik : 100,000,000+\n",
      "KakaoTalk: Free Calls & Text : 100,000,000+\n",
      "Opera Mini - fast web browser : 100,000,000+\n",
      "Opera Browser: Fast and Secure : 100,000,000+\n",
      "Telegram : 100,000,000+\n",
      "Truecaller: Caller ID, SMS spam blocking & Dialer : 100,000,000+\n",
      "UC Browser Mini -Tiny Fast Private & Secure : 100,000,000+\n",
      "Viber Messenger : 500,000,000+\n",
      "WeChat : 100,000,000+\n",
      "Yahoo Mail – Stay Organized : 100,000,000+\n",
      "BBM - Free Calls & Messages : 100,000,000+\n"
     ]
    }
   ],
   "source": [
    "for app in final_android_free:\n",
    "    if app[1] == 'COMMUNICATION' and (app[5] == '1,000,000,000+'\n",
    "                                      or app[5] == '500,000,000+'\n",
    "                                      or app[5] == '100,000,000+'):\n",
    "        print(app[0], ':', app[5])"
   ]
  },
  {
   "cell_type": "markdown",
   "metadata": {
    "collapsed": false
   },
   "source": [
    "\n",
    "If we removed all the communication apps that have over 100 million installs, the average would be reduced roughly ten times:\n",
    "\n",
    "\n"
   ]
  },
  {
   "cell_type": "code",
   "execution_count": 59,
   "metadata": {
    "collapsed": false
   },
   "outputs": [
    {
     "data": {
      "text/plain": [
       "3603485.3884615386"
      ]
     },
     "execution_count": 59,
     "metadata": {},
     "output_type": "execute_result"
    }
   ],
   "source": [
    "under_100_m = []\n",
    "\n",
    "for app in final_android_free:\n",
    "    n_installs = app[5]\n",
    "    n_installs = n_installs.replace(',', '')\n",
    "    n_installs = n_installs.replace('+', '')\n",
    "    if (app[1] == 'COMMUNICATION') and (float(n_installs) < 100000000):\n",
    "        under_100_m.append(float(n_installs))\n",
    "        \n",
    "sum(under_100_m) / len(under_100_m)"
   ]
  },
  {
   "cell_type": "markdown",
   "metadata": {
    "collapsed": false
   },
   "source": [
    "# Conclusions\n",
    "In this project, we analyzed data about the App Store and Google Play mobile apps with the goal of recommending an app profile that can be profitable for both markets.\n",
    "\n"
   ]
  }
 ],
 "metadata": {
  "kernelspec": {
   "display_name": "Python 3",
   "language": "python",
   "name": "python3"
  },
  "language_info": {
   "codemirror_mode": {
    "name": "ipython",
    "version": 3
   },
   "file_extension": ".py",
   "mimetype": "text/x-python",
   "name": "python",
   "nbconvert_exporter": "python",
   "pygments_lexer": "ipython3",
   "version": "3.4.3"
  }
 },
 "nbformat": 4,
 "nbformat_minor": 2
}
